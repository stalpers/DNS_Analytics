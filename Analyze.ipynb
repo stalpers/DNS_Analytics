{
 "cells": [
  {
   "cell_type": "code",
   "execution_count": 48,
   "id": "initial_id",
   "metadata": {
    "collapsed": true,
    "ExecuteTime": {
     "end_time": "2024-02-21T14:52:16.850325300Z",
     "start_time": "2024-02-21T14:52:16.792471100Z"
    }
   },
   "outputs": [],
   "source": [
    "import pandas as pd\n",
    "import glob\n",
    "\n",
    "# get a list of all file paths in the export folder.\n",
    "files = glob.glob('./export/*.txt')\n",
    "\n",
    "# create an empty list to store dataframes\n",
    "df_list = []\n",
    "\n",
    "# iterate over the list of files\n",
    "for filename in files:\n",
    "    # read the file into a dataframe and append it to the list\n",
    "    df_list.append(pd.read_csv(filename, names=['type', 'value', 'domain','junk']))\n",
    "\n",
    "# concatenate all the dataframes in the list into a single dataframe\n",
    "df = pd.concat(df_list, ignore_index=True)"
   ]
  },
  {
   "cell_type": "code",
   "outputs": [
    {
     "name": "stdout",
     "output_type": "stream",
     "text": [
      "Index(['type', 'value', 'domain', 'junk'], dtype='object')\n"
     ]
    },
    {
     "data": {
      "text/plain": "                               Frequency  count\n0               google-site-verification    976\n1                                      v    363\n2                                     MS    244\n3          atlassian-domain-verification    186\n4           facebook-domain-verification    149\n...                                  ...    ...\n1205                             aO7RBfR      1\n1206                  487477444-11657476      1\n1207    c5d403d181be4c99af6bfc33a6b174ef      1\n1208  ZOOM_verify_MfQI7nhORG2Puh-3X5ATPg      1\n1209                   beam-verification      1\n\n[1210 rows x 2 columns]",
      "text/html": "<div>\n<style scoped>\n    .dataframe tbody tr th:only-of-type {\n        vertical-align: middle;\n    }\n\n    .dataframe tbody tr th {\n        vertical-align: top;\n    }\n\n    .dataframe thead th {\n        text-align: right;\n    }\n</style>\n<table border=\"1\" class=\"dataframe\">\n  <thead>\n    <tr style=\"text-align: right;\">\n      <th></th>\n      <th>Frequency</th>\n      <th>count</th>\n    </tr>\n  </thead>\n  <tbody>\n    <tr>\n      <th>0</th>\n      <td>google-site-verification</td>\n      <td>976</td>\n    </tr>\n    <tr>\n      <th>1</th>\n      <td>v</td>\n      <td>363</td>\n    </tr>\n    <tr>\n      <th>2</th>\n      <td>MS</td>\n      <td>244</td>\n    </tr>\n    <tr>\n      <th>3</th>\n      <td>atlassian-domain-verification</td>\n      <td>186</td>\n    </tr>\n    <tr>\n      <th>4</th>\n      <td>facebook-domain-verification</td>\n      <td>149</td>\n    </tr>\n    <tr>\n      <th>...</th>\n      <td>...</td>\n      <td>...</td>\n    </tr>\n    <tr>\n      <th>1205</th>\n      <td>aO7RBfR</td>\n      <td>1</td>\n    </tr>\n    <tr>\n      <th>1206</th>\n      <td>487477444-11657476</td>\n      <td>1</td>\n    </tr>\n    <tr>\n      <th>1207</th>\n      <td>c5d403d181be4c99af6bfc33a6b174ef</td>\n      <td>1</td>\n    </tr>\n    <tr>\n      <th>1208</th>\n      <td>ZOOM_verify_MfQI7nhORG2Puh-3X5ATPg</td>\n      <td>1</td>\n    </tr>\n    <tr>\n      <th>1209</th>\n      <td>beam-verification</td>\n      <td>1</td>\n    </tr>\n  </tbody>\n</table>\n<p>1210 rows × 2 columns</p>\n</div>"
     },
     "execution_count": 49,
     "metadata": {},
     "output_type": "execute_result"
    }
   ],
   "source": [
    "print (df.columns)\n",
    "#df[['key', 'split_value']] = df['value'].str.split('=', expand=True )\n",
    "df_split = df['value'].str.split('=', expand=True, n=1)\n",
    "df_split.columns = ['TXT-key', 'TXT-value']\n",
    "\n",
    "# Take care of cases when '=' isn't present\n",
    "# df_split['split_value'] = df_split['split_value'].fillna('')\n",
    "\n",
    "df = pd.concat([df, df_split], axis=1)\n",
    "\n",
    "unique_keys = df['TXT-key'].value_counts()\n",
    "unique_keys_df = unique_keys.reset_index().rename(columns={'index': 'TXT-key', 'TXT-key': 'Frequency'})\n",
    "\n",
    "unique_keys_df\n"
   ],
   "metadata": {
    "collapsed": false,
    "ExecuteTime": {
     "end_time": "2024-02-21T14:52:16.873657200Z",
     "start_time": "2024-02-21T14:52:16.852498200Z"
    }
   },
   "id": "3aa62de394f52bba",
   "execution_count": 49
  },
  {
   "cell_type": "code",
   "outputs": [],
   "source": [],
   "metadata": {
    "collapsed": false,
    "ExecuteTime": {
     "end_time": "2024-02-21T14:52:16.879674900Z",
     "start_time": "2024-02-21T14:52:16.873043300Z"
    }
   },
   "id": "393af36d047e0f1c",
   "execution_count": 49
  }
 ],
 "metadata": {
  "kernelspec": {
   "display_name": "Python 3",
   "language": "python",
   "name": "python3"
  },
  "language_info": {
   "codemirror_mode": {
    "name": "ipython",
    "version": 2
   },
   "file_extension": ".py",
   "mimetype": "text/x-python",
   "name": "python",
   "nbconvert_exporter": "python",
   "pygments_lexer": "ipython2",
   "version": "2.7.6"
  }
 },
 "nbformat": 4,
 "nbformat_minor": 5
}
