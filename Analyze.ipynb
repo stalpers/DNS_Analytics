{
 "cells": [
  {
   "cell_type": "code",
   "execution_count": 1,
   "id": "initial_id",
   "metadata": {
    "collapsed": true,
    "ExecuteTime": {
     "end_time": "2024-02-26T09:05:23.123957500Z",
     "start_time": "2024-02-26T09:05:20.197243Z"
    }
   },
   "outputs": [],
   "source": [
    "import pandas as pd\n",
    "import glob\n",
    "\n",
    "# get a list of all file paths in the export folder.\n",
    "files = glob.glob('./export_test.txt')\n",
    "\n",
    "# create an empty list to store dataframes\n",
    "df_list = []\n",
    "\n",
    "# iterate over the list of files\n",
    "for filename in files:\n",
    "    # read the file into a dataframe and append it to the list\n",
    "    df_list.append(pd.read_csv(filename, names=['type', 'value', 'domain','junk'],delimiter=',',quotechar=\"'\"))\n",
    "\n",
    "# concatenate all the dataframes in the list into a single dataframe\n",
    "df = pd.concat(df_list, ignore_index=True)"
   ]
  },
  {
   "cell_type": "code",
   "outputs": [
    {
     "name": "stdout",
     "output_type": "stream",
     "text": [
      "Index(['type', 'value', 'domain', 'junk'], dtype='object')\n"
     ]
    },
    {
     "data": {
      "text/plain": "                                            Frequency  count\n0                            google-site-verification     58\n1                                                   v     23\n2                                                  MS     19\n3                        facebook-domain-verification     13\n4                                            docusign     10\n..                                                ...    ...\n85                       appspace-domain-verification      1\n86  ahrefs-site-verification_a090368a0301a92f7320d...      1\n87  BJadAJ5kG9y7XpNSJLteauKYdC4FWQBW7d6HJGnL1y11Y7...      1\n88                   9f2d0bca72e54c548902ea3478de8a1d      1\n89                                        OSSRH-69635      1\n\n[90 rows x 2 columns]",
      "text/html": "<div>\n<style scoped>\n    .dataframe tbody tr th:only-of-type {\n        vertical-align: middle;\n    }\n\n    .dataframe tbody tr th {\n        vertical-align: top;\n    }\n\n    .dataframe thead th {\n        text-align: right;\n    }\n</style>\n<table border=\"1\" class=\"dataframe\">\n  <thead>\n    <tr style=\"text-align: right;\">\n      <th></th>\n      <th>Frequency</th>\n      <th>count</th>\n    </tr>\n  </thead>\n  <tbody>\n    <tr>\n      <th>0</th>\n      <td>google-site-verification</td>\n      <td>58</td>\n    </tr>\n    <tr>\n      <th>1</th>\n      <td>v</td>\n      <td>23</td>\n    </tr>\n    <tr>\n      <th>2</th>\n      <td>MS</td>\n      <td>19</td>\n    </tr>\n    <tr>\n      <th>3</th>\n      <td>facebook-domain-verification</td>\n      <td>13</td>\n    </tr>\n    <tr>\n      <th>4</th>\n      <td>docusign</td>\n      <td>10</td>\n    </tr>\n    <tr>\n      <th>...</th>\n      <td>...</td>\n      <td>...</td>\n    </tr>\n    <tr>\n      <th>85</th>\n      <td>appspace-domain-verification</td>\n      <td>1</td>\n    </tr>\n    <tr>\n      <th>86</th>\n      <td>ahrefs-site-verification_a090368a0301a92f7320d...</td>\n      <td>1</td>\n    </tr>\n    <tr>\n      <th>87</th>\n      <td>BJadAJ5kG9y7XpNSJLteauKYdC4FWQBW7d6HJGnL1y11Y7...</td>\n      <td>1</td>\n    </tr>\n    <tr>\n      <th>88</th>\n      <td>9f2d0bca72e54c548902ea3478de8a1d</td>\n      <td>1</td>\n    </tr>\n    <tr>\n      <th>89</th>\n      <td>OSSRH-69635</td>\n      <td>1</td>\n    </tr>\n  </tbody>\n</table>\n<p>90 rows × 2 columns</p>\n</div>"
     },
     "execution_count": 2,
     "metadata": {},
     "output_type": "execute_result"
    }
   ],
   "source": [
    "print (df.columns)\n",
    "#df[['key', 'split_value']] = df['value'].str.split('=', expand=True )\n",
    "df_split = df['value'].str.split('=', expand=True, n=1)\n",
    "df_split.columns = ['TXT-key', 'TXT-value']\n",
    "\n",
    "# Take care of cases when '=' isn't present\n",
    "# df_split['split_value'] = df_split['split_value'].fillna('')\n",
    "\n",
    "df = pd.concat([df, df_split], axis=1)\n",
    "\n",
    "unique_keys = df['TXT-key'].value_counts()\n",
    "unique_keys_df = unique_keys.reset_index().rename(columns={'index': 'TXT-key', 'TXT-key': 'Frequency'})\n",
    "\n",
    "unique_keys_df\n"
   ],
   "metadata": {
    "collapsed": false,
    "ExecuteTime": {
     "end_time": "2024-02-26T09:05:23.201456400Z",
     "start_time": "2024-02-26T09:05:23.122884600Z"
    }
   },
   "id": "3aa62de394f52bba",
   "execution_count": 2
  },
  {
   "cell_type": "code",
   "outputs": [],
   "source": [],
   "metadata": {
    "collapsed": false,
    "ExecuteTime": {
     "end_time": "2024-02-26T09:05:23.202538500Z",
     "start_time": "2024-02-26T09:05:23.196153100Z"
    }
   },
   "id": "393af36d047e0f1c",
   "execution_count": 2
  }
 ],
 "metadata": {
  "kernelspec": {
   "display_name": "Python 3",
   "language": "python",
   "name": "python3"
  },
  "language_info": {
   "codemirror_mode": {
    "name": "ipython",
    "version": 2
   },
   "file_extension": ".py",
   "mimetype": "text/x-python",
   "name": "python",
   "nbconvert_exporter": "python",
   "pygments_lexer": "ipython2",
   "version": "2.7.6"
  }
 },
 "nbformat": 4,
 "nbformat_minor": 5
}
